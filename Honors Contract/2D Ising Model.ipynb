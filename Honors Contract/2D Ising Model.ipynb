{
 "cells": [
  {
   "cell_type": "markdown",
   "metadata": {},
   "source": [
    "Importing packages"
   ]
  },
  {
   "cell_type": "code",
   "execution_count": 7,
   "metadata": {},
   "outputs": [],
   "source": [
    "import numpy as np\n",
    "import random as rand"
   ]
  },
  {
   "cell_type": "markdown",
   "metadata": {},
   "source": [
    "Defining inital default values for the constants such as lattice size, number of Monte Carlo trials, and temperature."
   ]
  },
  {
   "cell_type": "code",
   "execution_count": 4,
   "metadata": {},
   "outputs": [],
   "source": [
    "latt = 10 \n",
    "rlx_mc_runs = 50\n",
    "mc_runs = 1000"
   ]
  },
  {
   "cell_type": "markdown",
   "metadata": {},
   "source": [
    "Defining a function that takes an array to store spin values of lattice and initially sets the array to 1."
   ]
  },
  {
   "cell_type": "code",
   "execution_count": 2,
   "metadata": {},
   "outputs": [],
   "source": [
    "def init_spin_arr(r,c):\n",
    "    spin_arr_fill = np.ones((r,c))\n",
    "    return spin_arr_fill"
   ]
  },
  {
   "cell_type": "markdown",
   "metadata": {},
   "source": [
    "Creating neighbors in a two dimensional space along the x and y axes and then labeling those locations as side1, side2, side3, and side4. This then puts the neighbors into an array that signifies adjacent particles depending on the neighbors_arr index called. "
   ]
  },
  {
   "cell_type": "code",
   "execution_count": 8,
   "metadata": {},
   "outputs": [],
   "source": [
    "def neighbors(spin_arr, latt, x, y):\n",
    "    side1 = (x - 1, y)\n",
    "    side2 = (x, y + 1 if (y + 1) < latt else 0)\n",
    "    side3 = (x + 1 if (x + 1) < latt else 0, y)\n",
    "    side4 = (x, y - 1)\n",
    "    \n",
    "    neighbors_arr = [spin_arr[side1[0], side1[1]], \n",
    "                     spin_arr[side2[0], side2[1]],\n",
    "                     spin_arr[side3[0], side3[1]],\n",
    "                     spin_arr[side4[0], side4[1]]]\n",
    "    \n",
    "    return neighbors_arr"
   ]
  },
  {
   "cell_type": "markdown",
   "metadata": {},
   "source": [
    "A function that defines the energy of the system and will be used after the Monte Carlo flips the particles spin."
   ]
  },
  {
   "cell_type": "code",
   "execution_count": 1,
   "metadata": {},
   "outputs": [],
   "source": [
    "def energy_of_latt(spin_arr, latt, x, y):\n",
    "    single = -1 * spin_arr[x, y]\n",
    "    sum_neighbors = sum(neighbors(spin_arr, latt, x, y))\n",
    "    return single*sum_neighbors"
   ]
  },
  {
   "cell_type": "markdown",
   "metadata": {},
   "source": [
    "A function asking for values to replace default and then running Monte Carlo to return energy over a range of temperatures. "
   ]
  },
  {
   "cell_type": "code",
   "execution_count": 6,
   "metadata": {},
   "outputs": [],
   "source": [
    "def simulate():\n",
    "    latt = eval(input(\"Lattice Size: \"))\n",
    "    mc_runs = eval(input(\"Number of Monte Carlo runs: \"))\n",
    "    \n",
    "    for temp in np.linspace(0, 10, 500):\n",
    "        \n",
    "        #creating lattice\n",
    "        spin_arr = init_spin_arr(latt, latt)\n",
    "        #Creating Matricies for energy and magnetism\n",
    "        magnetism = np.zeros(mc_runs + rlx_mc_runs)\n",
    "        energy = np.zeros(mc_runs + rlx_mc_runs)\n",
    "        \n",
    "        #Running Monte Carlo for temperature range\n",
    "        for run in range(mc_runs + rlx_mc_runs):\n",
    "            for i in range(latt):\n",
    "                for j in range(latt):\n",
    "                    ene = energy(spin_arr, latt, i, j)\n",
    "                    \n",
    "                    if ene <= 0:\n",
    "                        spin_arr[i, j] = spin_arr[i, j] * (-1)\n",
    "                    elif np.exp(((-1) * ene)/temp) > rand.uniform(0,1):\n",
    "                        spin_arr[i, j] = spin_arr[i, j] * (-1)\n",
    "                    else:\n",
    "                        continue\n",
    "                        \n",
    "            #Adding to arrays of energy and magnetization\n",
    "            energy[run] = energy_of_latt(spin_arr, latt, i, j)/ (latt**2)\n",
    "            magnetism[run] = np.absolute(sum(sum(spin_arr)))/(latt**2)\n",
    "            \n",
    "        #The temperature and magnetism results\n",
    "        print(temp, sum(magnetism[rlx_mc_runs:])/ mc_runs)\n",
    "        print(temp, sum(energy[rlx_mc_runs:])/ mc_runs)\n",
    "\n",
    "        "
   ]
  },
  {
   "cell_type": "code",
   "execution_count": null,
   "metadata": {},
   "outputs": [],
   "source": []
  }
 ],
 "metadata": {
  "kernelspec": {
   "display_name": "Python 3",
   "language": "python",
   "name": "python3"
  },
  "language_info": {
   "codemirror_mode": {
    "name": "ipython",
    "version": 3
   },
   "file_extension": ".py",
   "mimetype": "text/x-python",
   "name": "python",
   "nbconvert_exporter": "python",
   "pygments_lexer": "ipython3",
   "version": "3.7.3"
  }
 },
 "nbformat": 4,
 "nbformat_minor": 2
}
